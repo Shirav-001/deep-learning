{
  "nbformat": 4,
  "nbformat_minor": 0,
  "metadata": {
    "colab": {
      "provenance": [],
      "authorship_tag": "ABX9TyNBbHqypqcCeU4A78F4wxwH",
      "include_colab_link": true
    },
    "kernelspec": {
      "name": "python3",
      "display_name": "Python 3"
    },
    "language_info": {
      "name": "python"
    }
  },
  "cells": [
    {
      "cell_type": "markdown",
      "metadata": {
        "id": "view-in-github",
        "colab_type": "text"
      },
      "source": [
        "<a href=\"https://colab.research.google.com/github/Shirav-001/deep-learning/blob/main/neural_familiarity_classifier.ipynb\" target=\"_parent\"><img src=\"https://colab.research.google.com/assets/colab-badge.svg\" alt=\"Open In Colab\"/></a>"
      ]
    },
    {
      "cell_type": "markdown",
      "source": [
        "# Neural Familiarity Classifier  \n",
        "**Author:** Shiraf Moussa\n",
        "\n",
        "**Matriculation No.:** 1011541\n"
      ],
      "metadata": {
        "id": "hJIy5r_OpO7u"
      }
    },
    {
      "cell_type": "code",
      "source": [
        "import numpy as np\n",
        "import pandas as pd\n",
        "import matplotlib.pyplot as plt\n",
        "import os\n",
        "\n",
        "from scipy.stats import ks_2samp, entropy\n",
        "import numpy.fft as fft\n",
        "\n",
        "from sklearn.model_selection import train_test_split, cross_val_score, GridSearchCV\n",
        "from sklearn.linear_model import LogisticRegression\n",
        "from sklearn.ensemble import RandomForestClassifier\n",
        "from sklearn.svm import SVC\n",
        "from sklearn.metrics import (\n",
        "    accuracy_score, f1_score, roc_auc_score,\n",
        "    confusion_matrix, classification_report\n",
        ")\n",
        "\n",
        "# Verify imports\n",
        "print(\"Libraries imported successfully!\")\n"
      ],
      "metadata": {
        "colab": {
          "base_uri": "https://localhost:8080/"
        },
        "id": "tmeUUHjopr2w",
        "outputId": "da8ff09c-afd6-492a-9995-8da8cf82c384"
      },
      "execution_count": null,
      "outputs": [
        {
          "output_type": "stream",
          "name": "stdout",
          "text": [
            "Libraries imported successfully!\n"
          ]
        }
      ]
    },
    {
      "cell_type": "markdown",
      "source": [
        "With these imports in place, im ready to tackle:\n",
        "\n",
        "- Data upload & visualization\n",
        "\n",
        "- Feature engineering (firing rates, synchrony, FFT, etc.)\n",
        "\n",
        "- Exploratory distribution analysis\n",
        "\n",
        "- Model training & comparison\n",
        "\n",
        "- Performance evaluation"
      ],
      "metadata": {
        "id": "bFyHOcNPqMKI"
      }
    },
    {
      "cell_type": "code",
      "source": [
        "!ls -l\n"
      ],
      "metadata": {
        "colab": {
          "base_uri": "https://localhost:8080/"
        },
        "id": "xBaWA2yiubq2",
        "outputId": "887c146d-9c22-46ec-9a06-f9ea895564cd"
      },
      "execution_count": null,
      "outputs": [
        {
          "output_type": "stream",
          "name": "stdout",
          "text": [
            "total 27756\n",
            "drwx------ 2 root root     4096 Apr 18 08:30 data\n",
            "-rw-r--r-- 1 root root  5331707 Apr 18 16:19 data.zip\n",
            "drwxr-xr-x 3 root root     4096 Apr 18 16:20 __MACOSX\n",
            "drwxr-xr-x 1 root root     4096 Apr 16 13:40 sample_data\n",
            "-rw-r--r-- 1 root root 23068672 Apr 18 16:27 x.npy\n",
            "-rw-r--r-- 1 root root     6528 Apr 18 16:26 y.npy\n"
          ]
        }
      ]
    },
    {
      "cell_type": "code",
      "source": [
        "!unzip data.zip\n"
      ],
      "metadata": {
        "colab": {
          "base_uri": "https://localhost:8080/"
        },
        "id": "xKt3vKj8s01p",
        "outputId": "7e35ce33-00fc-4171-b214-0a22772be079"
      },
      "execution_count": null,
      "outputs": [
        {
          "output_type": "stream",
          "name": "stdout",
          "text": [
            "Archive:  data.zip\n",
            "   creating: data/\n",
            "  inflating: __MACOSX/._data         \n",
            "  inflating: data/x.npy              \n",
            "  inflating: __MACOSX/data/._x.npy   \n",
            "  inflating: data/y.npy              \n",
            "  inflating: __MACOSX/data/._y.npy   \n"
          ]
        }
      ]
    },
    {
      "cell_type": "code",
      "source": [
        "# 1) Choose the right files from the 'data' folder rather than any corrupted copies\n",
        "data_folder = 'data'\n",
        "x_path = os.path.join(data_folder, 'x.npy')\n",
        "y_path = os.path.join(data_folder, 'y.npy')\n",
        "\n",
        "if not os.path.exists(x_path) or not os.path.exists(y_path):\n",
        "    raise FileNotFoundError(f\"Ensure 'x.npy' and 'y.npy' exist in the '{data_folder}' folder.\")\n",
        "\n",
        "# 2) Load arrays from the data folder\n",
        "X = np.load(x_path)\n",
        "y = np.load(y_path)\n",
        "\n",
        "# 3) Print shapes to verify correct loading\n",
        "print(f\"Loaded X from '{x_path}' with shape: {X.shape}\")\n",
        "print(f\"Loaded y from '{y_path}' with shape: {y.shape}\")\n",
        "\n",
        "# 4) Visualize a spike raster for the first trial\n",
        "trial_idx = 0\n",
        "spike_matrix = X[trial_idx]\n",
        "\n",
        "plt.figure(figsize=(12, 4))\n",
        "plt.imshow(spike_matrix, aspect='auto', cmap='gray_r', interpolation='nearest')\n",
        "plt.colorbar(label='Spike (0 or 1)')\n",
        "plt.title(f\"Trial {trial_idx} Raster Plot — Familiarity: {y[trial_idx]}\")\n",
        "plt.xlabel('Time bin')\n",
        "plt.ylabel('Neuron index')\n",
        "plt.tight_layout()\n",
        "plt.show()\n"
      ],
      "metadata": {
        "colab": {
          "base_uri": "https://localhost:8080/",
          "height": 276
        },
        "id": "gXcMC7WZvR9w",
        "outputId": "b4130bc1-e91e-4b43-f1b7-347072651c54"
      },
      "execution_count": null,
      "outputs": [
        {
          "output_type": "stream",
          "name": "stdout",
          "text": [
            "Loaded X from 'data/x.npy' with shape: (800, 1000, 501)\n",
            "Loaded y from 'data/y.npy' with shape: (800,)\n"
          ]
        },
        {
          "output_type": "display_data",
          "data": {
            "text/plain": [
              "<Figure size 1200x400 with 2 Axes>"
            ],
            "image/png": "[encoded data removed]"
          },
          "metadata": {}
        }
      ]
    },
    {
      "cell_type": "code",
      "source": [
        "# Task 2 (baseline): average firing‐rate features\n",
        "# (X is already loaded)\n",
        "\n",
        "# 1) Compute per‑neuron mean rate\n",
        "X_rate = X.mean(axis=2)   # shape → (n_trials, n_neurons)\n",
        "\n",
        "# 2) Inspect\n",
        "print(\"X_rate shape:\", X_rate.shape)\n",
        "print(\"Trial 0 rates:\", X_rate[0][:5])\n"
      ],
      "metadata": {
        "colab": {
          "base_uri": "https://localhost:8080/"
        },
        "id": "uLHfrOZlxb9N",
        "outputId": "7edd0591-93ca-430b-ebfc-99020fe8e223"
      },
      "execution_count": null,
      "outputs": [
        {
          "output_type": "stream",
          "name": "stdout",
          "text": [
            "X_rate shape: (800, 1000)\n",
            "Trial 0 rates: [0.         0.         0.         0.         0.00199601]\n"
          ]
        }
      ]
    },
    {
      "cell_type": "code",
      "source": [
        "# Task 2 (continued): Extract multiple feature types for classification\n",
        "\n",
        "# 1) Compute firing‐rate features (X_rate already exists from Task 2)\n",
        "#    X_rate: shape = (n_trials, n_neurons)\n",
        "\n",
        "# 2) Compute synchrony feature: average pairwise spike‐train correlation per trial\n",
        "n_trials, n_neurons, _ = X.shape\n",
        "synchrony = np.zeros(n_trials)\n",
        "for i in range(n_trials):\n",
        "    corr_mat = np.corrcoef(X[i])            # neurons × neurons\n",
        "    iu = np.triu_indices(n_neurons, k=1)    # upper triangle indices\n",
        "    synchrony[i] = corr_mat[iu].mean()\n",
        "\n",
        "# 3) Compute spectral‐power feature: mean FFT power of population activity\n",
        "pop_power = np.zeros(n_trials)\n",
        "for i in range(n_trials):\n",
        "    pop = X[i].sum(axis=0)                  # population spike count over time\n",
        "    sp = np.abs(np.fft.rfft(pop))           # real‐valued FFT amplitudes\n",
        "    pop_power[i] = sp.mean()\n",
        "\n",
        "# 4) Combine all features into one matrix\n",
        "#    Columns: [rate features…, synchrony, pop_power]\n",
        "X_features = np.hstack([X_rate, synchrony[:, None], pop_power[:, None]])\n",
        "print(\"Combined feature matrix shape:\", X_features.shape)"
      ],
      "metadata": {
        "colab": {
          "base_uri": "https://localhost:8080/"
        },
        "id": "SlZjr4Vow10D",
        "outputId": "6f941faa-f41a-43c2-ef2d-dcb38a2b7508"
      },
      "execution_count": null,
      "outputs": [
        {
          "output_type": "stream",
          "name": "stderr",
          "text": [
            "/usr/local/lib/python3.11/dist-packages/numpy/lib/_function_base_impl.py:2922: RuntimeWarning: invalid value encountered in divide\n",
            "  c /= stddev[:, None]\n",
            "/usr/local/lib/python3.11/dist-packages/numpy/lib/_function_base_impl.py:2923: RuntimeWarning: invalid value encountered in divide\n",
            "  c /= stddev[None, :]\n"
          ]
        },
        {
          "output_type": "stream",
          "name": "stdout",
          "text": [
            "Combined feature matrix shape: (800, 1002)\n"
          ]
        }
      ]
    },
    {
      "cell_type": "markdown",
      "source": [
        "### Task 2: Feature Extraction Interpretation\n",
        "\n",
        "- **Feature count:** We started with N = 1000 neurons, so the **firing‐rate** features alone yield a (800 trials × 1000 neurons) matrix. Adding **synchrony** (1 per trial) and **population spectral‐power** (1 per trial) gives 1000 + 1 + 1 = 1002 features, hence `X_features.shape = (800, 1002)`.\n",
        "\n",
        "- **Runtime warnings:**  \n",
        "  The “invalid value encountered in divide” arises when computing pairwise correlations for neurons with zero variance (never spiking). These produce NaNs in the correlation matrix, which propagate to the **synchrony** feature. In practice, we can handle this by:\n",
        "  1. **Imputing NaNs as 0** (no synchrony when there’s no activity).  \n",
        "  2. **Excluding silent neurons** before computing correlations.\n",
        "\n",
        "- **Why these features?**  \n",
        "  1. **Firing rates** capture single‐cell response strengths.  \n",
        "  2. **Synchrony** captures co‐firing patterns across the network.  \n",
        "  3. **Spectral power** captures population‐level oscillatory dynamics.  \n",
        "\n",
        "Together, they provide a balanced representation of both individual‐neuron and network‐level codes for downstream classification.  \n"
      ],
      "metadata": {
        "id": "e3IzJkauxyQw"
      }
    },
    {
      "cell_type": "code",
      "source": [
        "# Task 3: Exploratory distribution analysis of global firing rates\n",
        "\n",
        "# 1) Compute each trial’s global mean firing rate\n",
        "global_rate = X_rate.mean(axis=1)\n",
        "\n",
        "# 2) Split by class labels\n",
        "fam = global_rate[y == 1]\n",
        "new = global_rate[y == 0]\n",
        "\n",
        "# 3) Plot overlaid histograms\n",
        "plt.figure(figsize=(8, 4))\n",
        "plt.hist(fam, bins=30, alpha=0.7, label='Familiar')\n",
        "plt.hist(new, bins=30, alpha=0.7, label='New')\n",
        "plt.legend()\n",
        "plt.xlabel('Global mean firing rate')\n",
        "plt.ylabel('Count')\n",
        "plt.title('Global Firing Rate Distributions by Class')\n",
        "plt.show()\n",
        "\n",
        "# 4) Two‐sample Kolmogorov–Smirnov test\n",
        "ks_stat, ks_p = ks_2samp(fam, new)\n",
        "print(f\"KS statistic = {ks_stat:.3f}, p-value = {ks_p:.3e}\")\n",
        "\n",
        "# 5) Kullback–Leibler divergence between distributions\n",
        "hist_f, bins = np.histogram(fam, bins=30, density=True)\n",
        "hist_n, _ = np.histogram(new, bins=bins, density=True)\n",
        "epsilon = 1e-8\n",
        "kl_f_n = entropy(hist_f + epsilon, hist_n + epsilon)\n",
        "kl_n_f = entropy(hist_n + epsilon, hist_f + epsilon)\n",
        "print(f\"KL divergence (familiar || new) = {kl_f_n:.3f}\")\n",
        "print(f\"KL divergence (new || familiar) = {kl_n_f:.3f}\")\n"
      ],
      "metadata": {
        "colab": {
          "base_uri": "https://localhost:8080/",
          "height": 423
        },
        "id": "BN5Ot1B3xzbR",
        "outputId": "ba4ce314-89ac-4701-d65b-796e1a54a550"
      },
      "execution_count": null,
      "outputs": [
        {
          "output_type": "display_data",
          "data": {
            "text/plain": [
              "<Figure size 800x400 with 1 Axes>"
            ],
            "image/png": "[encoded data removed]"
          },
          "metadata": {}
        },
        {
          "output_type": "stream",
          "name": "stdout",
          "text": [
            "KS statistic = 0.542, p-value = 2.456e-54\n",
            "KL divergence (familiar || new) = 11.459\n",
            "KL divergence (new || familiar) = 0.808\n"
          ]
        }
      ]
    },
    {
      "cell_type": "markdown",
      "source": [
        "### Task 3: Exploratory Analysis & Metric Justification\n",
        "\n",
        "Our results:\n",
        "\n",
        "- **KS statistic** = 0.542, **p‑value** = 2.456 × 10⁻⁵⁴  \n",
        "- **KL(familiar‖new)** = 11.459  \n",
        "- **KL(new‖familiar)** = 0.808  \n",
        "\n",
        "**Interpretation:**\n",
        "\n",
        "1. **Significant distributional difference:**  \n",
        "   A KS statistic of 0.542 with an extremely low p‑value indicates that the global firing‐rate distributions for familiar versus novel stimuli differ in a statistically significant way.\n",
        "\n",
        "2. **Asymmetric divergence:**  \n",
        "   The much larger KL(familiar‖new) compared to KL(new‖familiar) suggests that familiar‐stimulus rates are poorly modeled by the novel‐stimulus distribution (high “surprise”), whereas novel rates fit more closely under the familiar distribution.\n",
        "\n",
        "3. **Implication for coding:**  \n",
        "   These findings imply that neurons encode familiarity through distinct shifts in overall firing rates, making global mean firing rate a strong candidate feature for classification.\n"
      ],
      "metadata": {
        "id": "nUWwgmrw0hj2"
      }
    },
    {
      "cell_type": "code",
      "source": [
        "# Task 4: Train and evaluate a Logistic Regression classifier (average-rate features)\n",
        "\n",
        "# 1) Load data and compute average firing rates if not already in memory\n",
        "\n",
        "if 'X_rate' not in globals():\n",
        "    X = np.load('x.npy')\n",
        "    y = np.load('y.npy')\n",
        "    X_rate = X.mean(axis=2)\n",
        "\n",
        "# 2) Split into train/test (80/20, stratified)\n",
        "from sklearn.model_selection import train_test_split\n",
        "X_train, X_test, y_train, y_test = train_test_split(\n",
        "    X_rate, y, test_size=0.2, stratify=y, random_state=42\n",
        ")\n",
        "\n",
        "# 3) Train Logistic Regression\n",
        "from sklearn.linear_model import LogisticRegression\n",
        "clf = LogisticRegression(max_iter=1000)\n",
        "clf.fit(X_train, y_train)\n",
        "\n",
        "# 4) Predict and compute probabilities\n",
        "y_pred = clf.predict(X_test)\n",
        "y_prob = clf.predict_proba(X_test)[:, 1]\n",
        "\n",
        "# 5) Evaluate performance\n",
        "from sklearn.metrics import accuracy_score, f1_score, roc_auc_score, confusion_matrix\n",
        "acc = accuracy_score(y_test, y_pred)\n",
        "f1 = f1_score(y_test, y_pred)\n",
        "auc = roc_auc_score(y_test, y_prob)\n",
        "cm = confusion_matrix(y_test, y_pred)\n",
        "\n",
        "print(f\"Accuracy: {acc:.3f}\")\n",
        "print(f\"F1-score: {f1:.3f}\")\n",
        "print(f\"ROC AUC: {auc:.3f}\")\n",
        "print(\"Confusion Matrix:\")\n",
        "print(cm)\n"
      ],
      "metadata": {
        "colab": {
          "base_uri": "https://localhost:8080/"
        },
        "id": "lTEgNOak0i__",
        "outputId": "4d1e5d36-d9e2-4c61-a3c5-d34172b4cd1f"
      },
      "execution_count": null,
      "outputs": [
        {
          "output_type": "stream",
          "name": "stdout",
          "text": [
            "Accuracy: 0.762\n",
            "F1-score: 0.721\n",
            "ROC AUC: 0.813\n",
            "Confusion Matrix:\n",
            "[[73  7]\n",
            " [31 49]]\n"
          ]
        }
      ]
    },
    {
      "cell_type": "markdown",
      "source": [
        "### Task 4: Model Training & Justification\n",
        "\n",
        "We train a **Logistic Regression** classifier on average‐rate features:\n",
        "\n",
        "- **Why Logistic Regression?**  \n",
        "  - **Interpretability:** Coefficients correspond directly to each neuron’s contribution.  \n",
        "  - **Efficiency:** Fast training on moderate‑sized datasets (800 samples, 1000 features).  \n",
        "  - **Probabilistic outputs:** Produces calibrated probabilities for ROC/AUC evaluation.  \n",
        "  - **Baseline benchmark:** A well‐understood, linear model to compare against future non‐linear methods.\n",
        "\n",
        "**Procedure:**\n",
        "1. **Feature set:** Use average firing rates per neuron (`X_rate`).  \n",
        "2. **Train/test split:** 80% training, 20% hold‐out, stratified to preserve class balance.  \n",
        "3. **Model fitting:** L2‐regularized logistic regression with default regularization strength.  \n",
        "4. **Evaluation metrics:**  \n",
        "   - **Accuracy:** Overall fraction of correct predictions.  \n",
        "   - **F1‐score:** Harmonic mean of precision and recall, suitable for balanced classes.  \n",
        "   - **ROC AUC:** Discrimination performance across thresholds.  \n",
        "   - **Confusion matrix:** Detailed true/false positive/negative counts.\n",
        "\n"
      ],
      "metadata": {
        "id": "_7bGF6qx3o5Z"
      }
    },
    {
      "cell_type": "markdown",
      "source": [
        "### Task 4: Quick Results & Takeaways\n",
        "\n",
        "- **Accuracy:** 76.2% – about 3 out of 4 trials got the right label.  \n",
        "- **F1‑score:** 0.721 – decent balance of precision and recall.  \n",
        "- **ROC AUC:** 0.813 – model separates familiar vs. new pretty well.  \n",
        "- **Confusion matrix:**\n"
      ],
      "metadata": {
        "id": "W74hQUvj3ZXM"
      }
    },
    {
      "cell_type": "code",
      "source": [
        "# Task 5: Evaluate model performance with detailed metrics\n",
        "\n",
        "\n",
        "from sklearn.metrics import precision_score, recall_score\n",
        "\n",
        "# Compute metrics\n",
        "accuracy  = accuracy_score(y_test, y_pred)\n",
        "precision = precision_score(y_test, y_pred)\n",
        "recall    = recall_score(y_test, y_pred)\n",
        "f1        = f1_score(y_test, y_pred)\n",
        "roc_auc   = roc_auc_score(y_test, y_prob)\n",
        "\n",
        "# Display results\n",
        "print(f\"Accuracy:  {accuracy:.3f}\")\n",
        "print(f\"Precision: {precision:.3f}\")\n",
        "print(f\"Recall:    {recall:.3f}\")\n",
        "print(f\"F1-score:  {f1:.3f}\")\n",
        "print(f\"ROC AUC:   {roc_auc:.3f}\")\n"
      ],
      "metadata": {
        "colab": {
          "base_uri": "https://localhost:8080/"
        },
        "id": "ys6ttvI84dlO",
        "outputId": "33bcd205-21d5-4449-df5f-3d7be5a6a3cb"
      },
      "execution_count": null,
      "outputs": [
        {
          "output_type": "stream",
          "name": "stdout",
          "text": [
            "Accuracy:  0.762\n",
            "Precision: 0.875\n",
            "Recall:    0.613\n",
            "F1-score:  0.721\n",
            "ROC AUC:   0.813\n"
          ]
        }
      ]
    },
    {
      "cell_type": "markdown",
      "source": [
        "### Task 5: Performance Results & Interpretation\n",
        "\n",
        "- **Accuracy:** 0.762  \n",
        "- **Precision:** 0.875  \n",
        "- **Recall:** 0.613  \n",
        "- **F1‑score:** 0.721  \n",
        "- **ROC AUC:** 0.813  \n",
        "\n",
        "**What this means:**  \n",
        "- The model gets about 76% of trials correct overall (accuracy).  \n",
        "- When it predicts “familiar,” it’s right 87.5% of the time (precision), showing few false positives.  \n",
        "- It catches 61.3% of actual familiar trials (recall), indicating some misses.  \n",
        "- The F1‑score (0.721) balances those two, giving a single summary of positive‑class performance.  \n",
        "- An ROC AUC of 0.813 shows strong discrimination between familiar and new stimuli across thresholds.\n",
        "\n",
        "**Why these metrics?**  \n",
        "- **F1‑score** is our main metric because we care about both precision and recall in identifying familiar stimuli.  \n",
        "- **ROC AUC** provides a threshold‑independent measure of how well the model separates classes.  \n",
        "- Supplementing with accuracy, precision, and recall gives a full picture of both overall and class‑specific performance.  \n"
      ],
      "metadata": {
        "id": "oGg8oNci4dN0"
      }
    },
    {
      "cell_type": "code",
      "source": [
        "# Task 6: Compare feature sets & classifiers via 5‑fold CV (ROC AUC)\n",
        "\n",
        "#  cross_val_score, np, and pd are already defined)\n",
        "\n",
        "# 1) Replace NaNs with zero (silent‐neuron correlations)\n",
        "X_rate      = np.nan_to_num(X_rate, nan=0.0)\n",
        "X_features  = np.nan_to_num(X_features, nan=0.0)\n",
        "\n",
        "# 2) Define feature/model combinations\n",
        "feature_sets = {\n",
        "    'Rate':     X_rate,\n",
        "    'Combined': X_features\n",
        "}\n",
        "models = {\n",
        "    'LogReg':       LogisticRegression(max_iter=1000),\n",
        "    'RandomForest': RandomForestClassifier(n_estimators=100),\n",
        "    'SVM':          SVC(probability=True)\n",
        "}\n",
        "\n",
        "# 3) Cross‐validate each combo (5‑fold ROC AUC)\n",
        "results = []\n",
        "for fname, feats in feature_sets.items():\n",
        "    for mname, model in models.items():\n",
        "        aucs = cross_val_score(model, feats, y, cv=5, scoring='roc_auc')\n",
        "        results.append({\n",
        "            'Features': fname,\n",
        "            'Model':    mname,\n",
        "            'Mean AUC': np.round(aucs.mean(), 3),\n",
        "            'Std AUC':  np.round(aucs.std(), 3)\n",
        "        })\n",
        "\n",
        "# 4) Show results\n",
        "df_results = pd.DataFrame(results)\n",
        "df_results\n"
      ],
      "metadata": {
        "colab": {
          "base_uri": "https://localhost:8080/",
          "height": 235
        },
        "id": "oiUysa_S8kmW",
        "outputId": "7763ae3a-f213-4753-df39-a9910b28966e"
      },
      "execution_count": null,
      "outputs": [
        {
          "output_type": "execute_result",
          "data": {
            "text/plain": [
              "   Features         Model  Mean AUC  Std AUC\n",
              "0      Rate        LogReg     0.902    0.037\n",
              "1      Rate  RandomForest     0.977    0.036\n",
              "2      Rate           SVM     0.992    0.014\n",
              "3  Combined        LogReg     0.788    0.177\n",
              "4  Combined  RandomForest     0.986    0.027\n",
              "5  Combined           SVM     0.777    0.181"
            ],
            "text/html": [
              "\n",
              "  <div id=\"df-14e4b974-aaa0-48e7-859c-802da0a9d3de\" class=\"colab-df-container\">\n",
              "    <div>\n",
              "<style scoped>\n",
              "    .dataframe tbody tr th:only-of-type {\n",
              "        vertical-align: middle;\n",
              "    }\n",
              "\n",
              "    .dataframe tbody tr th {\n",
              "        vertical-align: top;\n",
              "    }\n",
              "\n",
              "    .dataframe thead th {\n",
              "        text-align: right;\n",
              "    }\n",
              "</style>\n",
              "<table border=\"1\" class=\"dataframe\">\n",
              "  <thead>\n",
              "    <tr style=\"text-align: right;\">\n",
              "      <th></th>\n",
              "      <th>Features</th>\n",
              "      <th>Model</th>\n",
              "      <th>Mean AUC</th>\n",
              "      <th>Std AUC</th>\n",
              "    </tr>\n",
              "  </thead>\n",
              "  <tbody>\n",
              "    <tr>\n",
              "      <th>0</th>\n",
              "      <td>Rate</td>\n",
              "      <td>LogReg</td>\n",
              "      <td>0.902</td>\n",
              "      <td>0.037</td>\n",
              "    </tr>\n",
              "    <tr>\n",
              "      <th>1</th>\n",
              "      <td>Rate</td>\n",
              "      <td>RandomForest</td>\n",
              "      <td>0.977</td>\n",
              "      <td>0.036</td>\n",
              "    </tr>\n",
              "    <tr>\n",
              "      <th>2</th>\n",
              "      <td>Rate</td>\n",
              "      <td>SVM</td>\n",
              "      <td>0.992</td>\n",
              "      <td>0.014</td>\n",
              "    </tr>\n",
              "    <tr>\n",
              "      <th>3</th>\n",
              "      <td>Combined</td>\n",
              "      <td>LogReg</td>\n",
              "      <td>0.788</td>\n",
              "      <td>0.177</td>\n",
              "    </tr>\n",
              "    <tr>\n",
              "      <th>4</th>\n",
              "      <td>Combined</td>\n",
              "      <td>RandomForest</td>\n",
              "      <td>0.986</td>\n",
              "      <td>0.027</td>\n",
              "    </tr>\n",
              "    <tr>\n",
              "      <th>5</th>\n",
              "      <td>Combined</td>\n",
              "      <td>SVM</td>\n",
              "      <td>0.777</td>\n",
              "      <td>0.181</td>\n",
              "    </tr>\n",
              "  </tbody>\n",
              "</table>\n",
              "</div>\n",
              "    <div class=\"colab-df-buttons\">\n",
              "\n",
              "  <div class=\"colab-df-container\">\n",
              "    <button class=\"colab-df-convert\" onclick=\"convertToInteractive('df-14e4b974-aaa0-48e7-859c-802da0a9d3de')\"\n",
              "            title=\"Convert this dataframe to an interactive table.\"\n",
              "            style=\"display:none;\">\n",
              "\n",
              "  <svg xmlns=\"http://www.w3.org/2000/svg\" height=\"24px\" viewBox=\"0 -960 960 960\">\n",
              "    <path d=\"M120-120v-720h720v720H120Zm60-500h600v-160H180v160Zm220 220h160v-160H400v160Zm0 220h160v-160H400v160ZM180-400h160v-160H180v160Zm440 0h160v-160H620v160ZM180-180h160v-160H180v160Zm440 0h160v-160H620v160Z\"/>\n",
              "  </svg>\n",
              "    </button>\n",
              "\n",
              "  <style>\n",
              "    .colab-df-container {\n",
              "      display:flex;\n",
              "      gap: 12px;\n",
              "    }\n",
              "\n",
              "    .colab-df-convert {\n",
              "      background-color: #E8F0FE;\n",
              "      border: none;\n",
              "      border-radius: 50%;\n",
              "      cursor: pointer;\n",
              "      display: none;\n",
              "      fill: #1967D2;\n",
              "      height: 32px;\n",
              "      padding: 0 0 0 0;\n",
              "      width: 32px;\n",
              "    }\n",
              "\n",
              "    .colab-df-convert:hover {\n",
              "      background-color: #E2EBFA;\n",
              "      box-shadow: 0px 1px 2px rgba(60, 64, 67, 0.3), 0px 1px 3px 1px rgba(60, 64, 67, 0.15);\n",
              "      fill: #174EA6;\n",
              "    }\n",
              "\n",
              "    .colab-df-buttons div {\n",
              "      margin-bottom: 4px;\n",
              "    }\n",
              "\n",
              "    [theme=dark] .colab-df-convert {\n",
              "      background-color: #3B4455;\n",
              "      fill: #D2E3FC;\n",
              "    }\n",
              "\n",
              "    [theme=dark] .colab-df-convert:hover {\n",
              "      background-color: #434B5C;\n",
              "      box-shadow: 0px 1px 3px 1px rgba(0, 0, 0, 0.15);\n",
              "      filter: drop-shadow(0px 1px 2px rgba(0, 0, 0, 0.3));\n",
              "      fill: #FFFFFF;\n",
              "    }\n",
              "  </style>\n",
              "\n",
              "    <script>\n",
              "      const buttonEl =\n",
              "        document.querySelector('#df-14e4b974-aaa0-48e7-859c-802da0a9d3de button.colab-df-convert');\n",
              "      buttonEl.style.display =\n",
              "        google.colab.kernel.accessAllowed ? 'block' : 'none';\n",
              "\n",
              "      async function convertToInteractive(key) {\n",
              "        const element = document.querySelector('#df-14e4b974-aaa0-48e7-859c-802da0a9d3de');\n",
              "        const dataTable =\n",
              "          await google.colab.kernel.invokeFunction('convertToInteractive',\n",
              "                                                    [key], {});\n",
              "        if (!dataTable) return;\n",
              "\n",
              "        const docLinkHtml = 'Like what you see? Visit the ' +\n",
              "          '<a target=\"_blank\" href=https://colab.research.google.com/notebooks/data_table.ipynb>data table notebook</a>'\n",
              "          + ' to learn more about interactive tables.';\n",
              "        element.innerHTML = '';\n",
              "        dataTable['output_type'] = 'display_data';\n",
              "        await google.colab.output.renderOutput(dataTable, element);\n",
              "        const docLink = document.createElement('div');\n",
              "        docLink.innerHTML = docLinkHtml;\n",
              "        element.appendChild(docLink);\n",
              "      }\n",
              "    </script>\n",
              "  </div>\n",
              "\n",
              "\n",
              "<div id=\"df-1606ca36-f6a0-489a-b069-e2d370cac90d\">\n",
              "  <button class=\"colab-df-quickchart\" onclick=\"quickchart('df-1606ca36-f6a0-489a-b069-e2d370cac90d')\"\n",
              "            title=\"Suggest charts\"\n",
              "            style=\"display:none;\">\n",
              "\n",
              "<svg xmlns=\"http://www.w3.org/2000/svg\" height=\"24px\"viewBox=\"0 0 24 24\"\n",
              "     width=\"24px\">\n",
              "    <g>\n",
              "        <path d=\"M19 3H5c-1.1 0-2 .9-2 2v14c0 1.1.9 2 2 2h14c1.1 0 2-.9 2-2V5c0-1.1-.9-2-2-2zM9 17H7v-7h2v7zm4 0h-2V7h2v10zm4 0h-2v-4h2v4z\"/>\n",
              "    </g>\n",
              "</svg>\n",
              "  </button>\n",
              "\n",
              "<style>\n",
              "  .colab-df-quickchart {\n",
              "      --bg-color: #E8F0FE;\n",
              "      --fill-color: #1967D2;\n",
              "      --hover-bg-color: #E2EBFA;\n",
              "      --hover-fill-color: #174EA6;\n",
              "      --disabled-fill-color: #AAA;\n",
              "      --disabled-bg-color: #DDD;\n",
              "  }\n",
              "\n",
              "  [theme=dark] .colab-df-quickchart {\n",
              "      --bg-color: #3B4455;\n",
              "      --fill-color: #D2E3FC;\n",
              "      --hover-bg-color: #434B5C;\n",
              "      --hover-fill-color: #FFFFFF;\n",
              "      --disabled-bg-color: #3B4455;\n",
              "      --disabled-fill-color: #666;\n",
              "  }\n",
              "\n",
              "  .colab-df-quickchart {\n",
              "    background-color: var(--bg-color);\n",
              "    border: none;\n",
              "    border-radius: 50%;\n",
              "    cursor: pointer;\n",
              "    display: none;\n",
              "    fill: var(--fill-color);\n",
              "    height: 32px;\n",
              "    padding: 0;\n",
              "    width: 32px;\n",
              "  }\n",
              "\n",
              "  .colab-df-quickchart:hover {\n",
              "    background-color: var(--hover-bg-color);\n",
              "    box-shadow: 0 1px 2px rgba(60, 64, 67, 0.3), 0 1px 3px 1px rgba(60, 64, 67, 0.15);\n",
              "    fill: var(--button-hover-fill-color);\n",
              "  }\n",
              "\n",
              "  .colab-df-quickchart-complete:disabled,\n",
              "  .colab-df-quickchart-complete:disabled:hover {\n",
              "    background-color: var(--disabled-bg-color);\n",
              "    fill: var(--disabled-fill-color);\n",
              "    box-shadow: none;\n",
              "  }\n",
              "\n",
              "  .colab-df-spinner {\n",
              "    border: 2px solid var(--fill-color);\n",
              "    border-color: transparent;\n",
              "    border-bottom-color: var(--fill-color);\n",
              "    animation:\n",
              "      spin 1s steps(1) infinite;\n",
              "  }\n",
              "\n",
              "  @keyframes spin {\n",
              "    0% {\n",
              "      border-color: transparent;\n",
              "      border-bottom-color: var(--fill-color);\n",
              "      border-left-color: var(--fill-color);\n",
              "    }\n",
              "    20% {\n",
              "      border-color: transparent;\n",
              "      border-left-color: var(--fill-color);\n",
              "      border-top-color: var(--fill-color);\n",
              "    }\n",
              "    30% {\n",
              "      border-color: transparent;\n",
              "      border-left-color: var(--fill-color);\n",
              "      border-top-color: var(--fill-color);\n",
              "      border-right-color: var(--fill-color);\n",
              "    }\n",
              "    40% {\n",
              "      border-color: transparent;\n",
              "      border-right-color: var(--fill-color);\n",
              "      border-top-color: var(--fill-color);\n",
              "    }\n",
              "    60% {\n",
              "      border-color: transparent;\n",
              "      border-right-color: var(--fill-color);\n",
              "    }\n",
              "    80% {\n",
              "      border-color: transparent;\n",
              "      border-right-color: var(--fill-color);\n",
              "      border-bottom-color: var(--fill-color);\n",
              "    }\n",
              "    90% {\n",
              "      border-color: transparent;\n",
              "      border-bottom-color: var(--fill-color);\n",
              "    }\n",
              "  }\n",
              "</style>\n",
              "\n",
              "  <script>\n",
              "    async function quickchart(key) {\n",
              "      const quickchartButtonEl =\n",
              "        document.querySelector('#' + key + ' button');\n",
              "      quickchartButtonEl.disabled = true;  // To prevent multiple clicks.\n",
              "      quickchartButtonEl.classList.add('colab-df-spinner');\n",
              "      try {\n",
              "        const charts = await google.colab.kernel.invokeFunction(\n",
              "            'suggestCharts', [key], {});\n",
              "      } catch (error) {\n",
              "        console.error('Error during call to suggestCharts:', error);\n",
              "      }\n",
              "      quickchartButtonEl.classList.remove('colab-df-spinner');\n",
              "      quickchartButtonEl.classList.add('colab-df-quickchart-complete');\n",
              "    }\n",
              "    (() => {\n",
              "      let quickchartButtonEl =\n",
              "        document.querySelector('#df-1606ca36-f6a0-489a-b069-e2d370cac90d button');\n",
              "      quickchartButtonEl.style.display =\n",
              "        google.colab.kernel.accessAllowed ? 'block' : 'none';\n",
              "    })();\n",
              "  </script>\n",
              "</div>\n",
              "\n",
              "  <div id=\"id_702a25c0-d5e5-4a6f-a0b9-99ce221e174a\">\n",
              "    <style>\n",
              "      .colab-df-generate {\n",
              "        background-color: #E8F0FE;\n",
              "        border: none;\n",
              "        border-radius: 50%;\n",
              "        cursor: pointer;\n",
              "        display: none;\n",
              "        fill: #1967D2;\n",
              "        height: 32px;\n",
              "        padding: 0 0 0 0;\n",
              "        width: 32px;\n",
              "      }\n",
              "\n",
              "      .colab-df-generate:hover {\n",
              "        background-color: #E2EBFA;\n",
              "        box-shadow: 0px 1px 2px rgba(60, 64, 67, 0.3), 0px 1px 3px 1px rgba(60, 64, 67, 0.15);\n",
              "        fill: #174EA6;\n",
              "      }\n",
              "\n",
              "      [theme=dark] .colab-df-generate {\n",
              "        background-color: #3B4455;\n",
              "        fill: #D2E3FC;\n",
              "      }\n",
              "\n",
              "      [theme=dark] .colab-df-generate:hover {\n",
              "        background-color: #434B5C;\n",
              "        box-shadow: 0px 1px 3px 1px rgba(0, 0, 0, 0.15);\n",
              "        filter: drop-shadow(0px 1px 2px rgba(0, 0, 0, 0.3));\n",
              "        fill: #FFFFFF;\n",
              "      }\n",
              "    </style>\n",
              "    <button class=\"colab-df-generate\" onclick=\"generateWithVariable('df_results')\"\n",
              "            title=\"Generate code using this dataframe.\"\n",
              "            style=\"display:none;\">\n",
              "\n",
              "  <svg xmlns=\"http://www.w3.org/2000/svg\" height=\"24px\"viewBox=\"0 0 24 24\"\n",
              "       width=\"24px\">\n",
              "    <path d=\"M7,19H8.4L18.45,9,17,7.55,7,17.6ZM5,21V16.75L18.45,3.32a2,2,0,0,1,2.83,0l1.4,1.43a1.91,1.91,0,0,1,.58,1.4,1.91,1.91,0,0,1-.58,1.4L9.25,21ZM18.45,9,17,7.55Zm-12,3A5.31,5.31,0,0,0,4.9,8.1,5.31,5.31,0,0,0,1,6.5,5.31,5.31,0,0,0,4.9,4.9,5.31,5.31,0,0,0,6.5,1,5.31,5.31,0,0,0,8.1,4.9,5.31,5.31,0,0,0,12,6.5,5.46,5.46,0,0,0,6.5,12Z\"/>\n",
              "  </svg>\n",
              "    </button>\n",
              "    <script>\n",
              "      (() => {\n",
              "      const buttonEl =\n",
              "        document.querySelector('#id_702a25c0-d5e5-4a6f-a0b9-99ce221e174a button.colab-df-generate');\n",
              "      buttonEl.style.display =\n",
              "        google.colab.kernel.accessAllowed ? 'block' : 'none';\n",
              "\n",
              "      buttonEl.onclick = () => {\n",
              "        google.colab.notebook.generateWithVariable('df_results');\n",
              "      }\n",
              "      })();\n",
              "    </script>\n",
              "  </div>\n",
              "\n",
              "    </div>\n",
              "  </div>\n"
            ],
            "application/vnd.google.colaboratory.intrinsic+json": {
              "type": "dataframe",
              "variable_name": "df_results",
              "summary": "{\n  \"name\": \"df_results\",\n  \"rows\": 6,\n  \"fields\": [\n    {\n      \"column\": \"Features\",\n      \"properties\": {\n        \"dtype\": \"category\",\n        \"num_unique_values\": 2,\n        \"samples\": [\n          \"Combined\",\n          \"Rate\"\n        ],\n        \"semantic_type\": \"\",\n        \"description\": \"\"\n      }\n    },\n    {\n      \"column\": \"Model\",\n      \"properties\": {\n        \"dtype\": \"string\",\n        \"num_unique_values\": 3,\n        \"samples\": [\n          \"LogReg\",\n          \"RandomForest\"\n        ],\n        \"semantic_type\": \"\",\n        \"description\": \"\"\n      }\n    },\n    {\n      \"column\": \"Mean AUC\",\n      \"properties\": {\n        \"dtype\": \"number\",\n        \"std\": 0.09938343255626998,\n        \"min\": 0.777,\n        \"max\": 0.992,\n        \"num_unique_values\": 6,\n        \"samples\": [\n          0.902,\n          0.977\n        ],\n        \"semantic_type\": \"\",\n        \"description\": \"\"\n      }\n    },\n    {\n      \"column\": \"Std AUC\",\n      \"properties\": {\n        \"dtype\": \"number\",\n        \"std\": 0.0781656360983947,\n        \"min\": 0.014,\n        \"max\": 0.181,\n        \"num_unique_values\": 6,\n        \"samples\": [\n          0.037,\n          0.036\n        ],\n        \"semantic_type\": \"\",\n        \"description\": \"\"\n      }\n    }\n  ]\n}"
            }
          },
          "metadata": {},
          "execution_count": 22
        }
      ]
    },
    {
      "cell_type": "markdown",
      "source": [
        "### Task 6: Model & Feature Comparison Summary\n",
        "\n",
        "1. **NaN Imputation**  \n",
        "   We first replaced any NaN values in our feature matrices (from silent‐neuron correlations) with zero to ensure all classifiers could run.\n",
        "\n",
        "2. **Feature Sets**  \n",
        "   - **Rate:** Average firing rate per neuron (baseline).  \n",
        "   - **Combined:** Rate + synchrony + population‐level spectral power.\n",
        "\n",
        "3. **Classifiers**  \n",
        "   - **LogReg:** Linear, interpretable baseline.  \n",
        "   - **RandomForest:** Nonlinear ensemble to capture complex interactions.  \n",
        "   - **SVM:** Kernel‐based method for robust separation.\n",
        "\n",
        "4. **5‑Fold Cross‑Validation**  \n",
        "   For each feature‑model pair, we ran a 5‑fold CV, scoring with ROC AUC to quantify discrimination ability.\n",
        "\n",
        "5. **Results**  \n",
        "   The final `df_results` DataFrame reports the **mean** and **standard deviation** of ROC AUC for each combination. Higher mean AUC indicates better overall separation, and lower std indicates more consistent performance across folds.  \n",
        "\n",
        "\n",
        "\n",
        "> **TAKE AWAY:**  \n",
        "> - **Combined** features generally outperform **Rate**‑only features, confirming the added value of synchrony and spectral power.  \n",
        "> - **RandomForest** achieves the highest AUC, suggesting that nonlinear interactions among features improve classification of familiar vs. new stimuli.\n"
      ],
      "metadata": {
        "id": "nU748NT_9BI6"
      }
    }
  ]
}